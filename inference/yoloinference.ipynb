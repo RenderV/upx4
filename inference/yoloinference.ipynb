{
 "cells": [
  {
   "cell_type": "code",
   "execution_count": 6,
   "metadata": {},
   "outputs": [],
   "source": [
    "from ultralytics import YOLO\n",
    "model = YOLO(\"yolov8x-seg.pt\")"
   ]
  },
  {
   "cell_type": "code",
   "execution_count": 7,
   "metadata": {},
   "outputs": [
    {
     "name": "stderr",
     "output_type": "stream",
     "text": [
      "\n"
     ]
    },
    {
     "name": "stdout",
     "output_type": "stream",
     "text": [
      "FPS: 30.0\n"
     ]
    },
    {
     "name": "stderr",
     "output_type": "stream",
     "text": [
      "0: 384x640 3 cars, 152.9ms\n",
      "Speed: 1.6ms preprocess, 152.9ms inference, 12.8ms postprocess per image at shape (1, 3, 384, 640)\n",
      "\n",
      "0: 384x640 3 cars, 89.7ms\n",
      "Speed: 1.7ms preprocess, 89.7ms inference, 13.9ms postprocess per image at shape (1, 3, 384, 640)\n",
      "\n",
      "0: 384x640 3 cars, 66.3ms\n",
      "Speed: 1.2ms preprocess, 66.3ms inference, 13.0ms postprocess per image at shape (1, 3, 384, 640)\n",
      "\n",
      "0: 384x640 3 cars, 64.3ms\n",
      "Speed: 1.8ms preprocess, 64.3ms inference, 13.8ms postprocess per image at shape (1, 3, 384, 640)\n",
      "\n",
      "0: 384x640 3 cars, 69.1ms\n",
      "Speed: 1.7ms preprocess, 69.1ms inference, 14.3ms postprocess per image at shape (1, 3, 384, 640)\n",
      "\n",
      "0: 384x640 3 cars, 91.9ms\n",
      "Speed: 2.1ms preprocess, 91.9ms inference, 16.9ms postprocess per image at shape (1, 3, 384, 640)\n",
      "\n",
      "0: 384x640 3 cars, 70.5ms\n",
      "Speed: 2.3ms preprocess, 70.5ms inference, 15.0ms postprocess per image at shape (1, 3, 384, 640)\n",
      "\n",
      "0: 384x640 3 cars, 74.8ms\n",
      "Speed: 1.9ms preprocess, 74.8ms inference, 14.2ms postprocess per image at shape (1, 3, 384, 640)\n",
      "\n",
      "0: 384x640 3 cars, 97.7ms\n",
      "Speed: 1.9ms preprocess, 97.7ms inference, 17.3ms postprocess per image at shape (1, 3, 384, 640)\n",
      "\n",
      "0: 384x640 3 cars, 92.6ms\n",
      "Speed: 1.6ms preprocess, 92.6ms inference, 19.3ms postprocess per image at shape (1, 3, 384, 640)\n",
      "\n",
      "0: 384x640 3 cars, 87.9ms\n",
      "Speed: 2.0ms preprocess, 87.9ms inference, 16.9ms postprocess per image at shape (1, 3, 384, 640)\n",
      "\n",
      "0: 384x640 3 cars, 85.0ms\n",
      "Speed: 1.6ms preprocess, 85.0ms inference, 14.9ms postprocess per image at shape (1, 3, 384, 640)\n",
      "\n",
      "0: 384x640 3 cars, 66.9ms\n",
      "Speed: 2.1ms preprocess, 66.9ms inference, 14.2ms postprocess per image at shape (1, 3, 384, 640)\n",
      "\n",
      "0: 384x640 3 cars, 91.6ms\n",
      "Speed: 1.9ms preprocess, 91.6ms inference, 16.7ms postprocess per image at shape (1, 3, 384, 640)\n",
      "\n",
      "0: 384x640 3 cars, 92.1ms\n",
      "Speed: 1.6ms preprocess, 92.1ms inference, 16.0ms postprocess per image at shape (1, 3, 384, 640)\n",
      "\n",
      "0: 384x640 3 cars, 91.1ms\n",
      "Speed: 1.7ms preprocess, 91.1ms inference, 16.0ms postprocess per image at shape (1, 3, 384, 640)\n",
      "\n",
      "0: 384x640 3 cars, 88.4ms\n",
      "Speed: 1.6ms preprocess, 88.4ms inference, 15.6ms postprocess per image at shape (1, 3, 384, 640)\n",
      "\n",
      "0: 384x640 3 cars, 87.4ms\n",
      "Speed: 1.7ms preprocess, 87.4ms inference, 16.6ms postprocess per image at shape (1, 3, 384, 640)\n",
      "\n",
      "0: 384x640 3 cars, 72.5ms\n",
      "Speed: 1.8ms preprocess, 72.5ms inference, 16.2ms postprocess per image at shape (1, 3, 384, 640)\n",
      "\n",
      "0: 384x640 3 cars, 90.0ms\n",
      "Speed: 1.7ms preprocess, 90.0ms inference, 15.8ms postprocess per image at shape (1, 3, 384, 640)\n"
     ]
    }
   ],
   "source": [
    "import cv2, sys\n",
    "VIDEO_URL = \"http://localhost:8888/collingwood/index.m3u8\"\n",
    "classes = [2, 7] #car, truck\n",
    "\n",
    "cap = cv2.VideoCapture(VIDEO_URL)\n",
    "if (cap.isOpened() == False):\n",
    "    sys.exit(-1)\n",
    "\n",
    "fps = cap.get(cv2.CAP_PROP_FPS)\n",
    "wait_ms = int(1000/fps)\n",
    "print('FPS:', fps)\n",
    "\n",
    "while(True):\n",
    "    success, frame = cap.read()\n",
    "\n",
    "    if success:\n",
    "        results = model.track(frame, persist=True)\n",
    "\n",
    "        annotated_frame = results[0].plot(line_width=1, labels=False)\n",
    "\n",
    "        cv2.imshow(\"YOLOv8 Tracking\", annotated_frame)\n",
    "\n",
    "        if cv2.waitKey(1) & 0xFF == ord(\"q\"):\n",
    "            break\n",
    "    else:\n",
    "        break\n",
    "\n",
    "\n",
    "cap.release()\n",
    "cv2.destroyAllWindows()"
   ]
  },
  {
   "cell_type": "code",
   "execution_count": 22,
   "metadata": {},
   "outputs": [
    {
     "data": {
      "text/plain": [
       "[2.0, 2.0, 2.0, 2.0, 2.0, 2.0, 2.0, 2.0, 2.0, 0.0]"
      ]
     },
     "execution_count": 22,
     "metadata": {},
     "output_type": "execute_result"
    }
   ],
   "source": [
    "results[0].boxes.cls.tolist()"
   ]
  }
 ],
 "metadata": {
  "kernelspec": {
   "display_name": "env",
   "language": "python",
   "name": "python3"
  },
  "language_info": {
   "codemirror_mode": {
    "name": "ipython",
    "version": 3
   },
   "file_extension": ".py",
   "mimetype": "text/x-python",
   "name": "python",
   "nbconvert_exporter": "python",
   "pygments_lexer": "ipython3",
   "version": "3.11.6"
  }
 },
 "nbformat": 4,
 "nbformat_minor": 2
}
