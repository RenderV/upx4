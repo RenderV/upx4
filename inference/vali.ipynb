{
 "cells": [
  {
   "cell_type": "code",
   "execution_count": 1,
   "metadata": {},
   "outputs": [],
   "source": [
    "from shapely.geometry import Polygon\n",
    "from ultralytics import YOLO\n",
    "import cv2\n",
    "import os\n",
    "from PIL import Image"
   ]
  },
  {
   "cell_type": "code",
   "execution_count": 5,
   "metadata": {},
   "outputs": [
    {
     "name": "stderr",
     "output_type": "stream",
     "text": [
      "INFO:root:Created parking space with id 0\n",
      "INFO:root:Created parking space with id 1\n",
      "INFO:root:Created parking space with id 2\n",
      "INFO:root:Created parking space with id 3\n",
      "INFO:root:Created parking space with id 4\n",
      "INFO:root:Created parking space with id 5\n"
     ]
    },
    {
     "name": "stdout",
     "output_type": "stream",
     "text": [
      "loading annotations into memory...\n",
      "Done (t=0.03s)\n",
      "creating index...\n",
      "index created!\n"
     ]
    },
    {
     "name": "stderr",
     "output_type": "stream",
     "text": [
      "\n",
      "image 1/1 /home/ren/Downloads/carscoco/valid/813988_jpg.rf.21183c6cdc0ac41e69df69b10ddb80cd.jpg: 352x640 7 cars, 1 truck, 1413.2ms\n",
      "Speed: 0.8ms preprocess, 1413.2ms inference, 9.3ms postprocess per image at shape (1, 3, 352, 640)\n"
     ]
    },
    {
     "ename": "ConnectionError",
     "evalue": "HTTPConnectionPool(host='api', port=8000): Max retries exceeded with url: /api/records/99999999/ (Caused by NameResolutionError(\"<urllib3.connection.HTTPConnection object at 0x7fa39e2c8d50>: Failed to resolve 'api' ([Errno -2] Name or service not known)\"))",
     "output_type": "error",
     "traceback": [
      "\u001b[0;31m---------------------------------------------------------------------------\u001b[0m",
      "\u001b[0;31mgaierror\u001b[0m                                  Traceback (most recent call last)",
      "File \u001b[0;32m~/gits/upx4/inference/env/lib64/python3.11/site-packages/urllib3/connection.py:203\u001b[0m, in \u001b[0;36mHTTPConnection._new_conn\u001b[0;34m(self)\u001b[0m\n\u001b[1;32m    202\u001b[0m \u001b[39mtry\u001b[39;00m:\n\u001b[0;32m--> 203\u001b[0m     sock \u001b[39m=\u001b[39m connection\u001b[39m.\u001b[39;49mcreate_connection(\n\u001b[1;32m    204\u001b[0m         (\u001b[39mself\u001b[39;49m\u001b[39m.\u001b[39;49m_dns_host, \u001b[39mself\u001b[39;49m\u001b[39m.\u001b[39;49mport),\n\u001b[1;32m    205\u001b[0m         \u001b[39mself\u001b[39;49m\u001b[39m.\u001b[39;49mtimeout,\n\u001b[1;32m    206\u001b[0m         source_address\u001b[39m=\u001b[39;49m\u001b[39mself\u001b[39;49m\u001b[39m.\u001b[39;49msource_address,\n\u001b[1;32m    207\u001b[0m         socket_options\u001b[39m=\u001b[39;49m\u001b[39mself\u001b[39;49m\u001b[39m.\u001b[39;49msocket_options,\n\u001b[1;32m    208\u001b[0m     )\n\u001b[1;32m    209\u001b[0m \u001b[39mexcept\u001b[39;00m socket\u001b[39m.\u001b[39mgaierror \u001b[39mas\u001b[39;00m e:\n",
      "File \u001b[0;32m~/gits/upx4/inference/env/lib64/python3.11/site-packages/urllib3/util/connection.py:60\u001b[0m, in \u001b[0;36mcreate_connection\u001b[0;34m(address, timeout, source_address, socket_options)\u001b[0m\n\u001b[1;32m     58\u001b[0m     \u001b[39mraise\u001b[39;00m LocationParseError(\u001b[39mf\u001b[39m\u001b[39m\"\u001b[39m\u001b[39m'\u001b[39m\u001b[39m{\u001b[39;00mhost\u001b[39m}\u001b[39;00m\u001b[39m'\u001b[39m\u001b[39m, label empty or too long\u001b[39m\u001b[39m\"\u001b[39m) \u001b[39mfrom\u001b[39;00m \u001b[39mNone\u001b[39;00m\n\u001b[0;32m---> 60\u001b[0m \u001b[39mfor\u001b[39;00m res \u001b[39min\u001b[39;00m socket\u001b[39m.\u001b[39;49mgetaddrinfo(host, port, family, socket\u001b[39m.\u001b[39;49mSOCK_STREAM):\n\u001b[1;32m     61\u001b[0m     af, socktype, proto, canonname, sa \u001b[39m=\u001b[39m res\n",
      "File \u001b[0;32m/usr/lib64/python3.11/socket.py:962\u001b[0m, in \u001b[0;36mgetaddrinfo\u001b[0;34m(host, port, family, type, proto, flags)\u001b[0m\n\u001b[1;32m    961\u001b[0m addrlist \u001b[39m=\u001b[39m []\n\u001b[0;32m--> 962\u001b[0m \u001b[39mfor\u001b[39;00m res \u001b[39min\u001b[39;00m _socket\u001b[39m.\u001b[39;49mgetaddrinfo(host, port, family, \u001b[39mtype\u001b[39;49m, proto, flags):\n\u001b[1;32m    963\u001b[0m     af, socktype, proto, canonname, sa \u001b[39m=\u001b[39m res\n",
      "\u001b[0;31mgaierror\u001b[0m: [Errno -2] Name or service not known",
      "\nThe above exception was the direct cause of the following exception:\n",
      "\u001b[0;31mNameResolutionError\u001b[0m                       Traceback (most recent call last)",
      "File \u001b[0;32m~/gits/upx4/inference/env/lib64/python3.11/site-packages/urllib3/connectionpool.py:791\u001b[0m, in \u001b[0;36mHTTPConnectionPool.urlopen\u001b[0;34m(self, method, url, body, headers, retries, redirect, assert_same_host, timeout, pool_timeout, release_conn, chunked, body_pos, preload_content, decode_content, **response_kw)\u001b[0m\n\u001b[1;32m    790\u001b[0m \u001b[39m# Make the request on the HTTPConnection object\u001b[39;00m\n\u001b[0;32m--> 791\u001b[0m response \u001b[39m=\u001b[39m \u001b[39mself\u001b[39;49m\u001b[39m.\u001b[39;49m_make_request(\n\u001b[1;32m    792\u001b[0m     conn,\n\u001b[1;32m    793\u001b[0m     method,\n\u001b[1;32m    794\u001b[0m     url,\n\u001b[1;32m    795\u001b[0m     timeout\u001b[39m=\u001b[39;49mtimeout_obj,\n\u001b[1;32m    796\u001b[0m     body\u001b[39m=\u001b[39;49mbody,\n\u001b[1;32m    797\u001b[0m     headers\u001b[39m=\u001b[39;49mheaders,\n\u001b[1;32m    798\u001b[0m     chunked\u001b[39m=\u001b[39;49mchunked,\n\u001b[1;32m    799\u001b[0m     retries\u001b[39m=\u001b[39;49mretries,\n\u001b[1;32m    800\u001b[0m     response_conn\u001b[39m=\u001b[39;49mresponse_conn,\n\u001b[1;32m    801\u001b[0m     preload_content\u001b[39m=\u001b[39;49mpreload_content,\n\u001b[1;32m    802\u001b[0m     decode_content\u001b[39m=\u001b[39;49mdecode_content,\n\u001b[1;32m    803\u001b[0m     \u001b[39m*\u001b[39;49m\u001b[39m*\u001b[39;49mresponse_kw,\n\u001b[1;32m    804\u001b[0m )\n\u001b[1;32m    806\u001b[0m \u001b[39m# Everything went great!\u001b[39;00m\n",
      "File \u001b[0;32m~/gits/upx4/inference/env/lib64/python3.11/site-packages/urllib3/connectionpool.py:497\u001b[0m, in \u001b[0;36mHTTPConnectionPool._make_request\u001b[0;34m(self, conn, method, url, body, headers, retries, timeout, chunked, response_conn, preload_content, decode_content, enforce_content_length)\u001b[0m\n\u001b[1;32m    496\u001b[0m \u001b[39mtry\u001b[39;00m:\n\u001b[0;32m--> 497\u001b[0m     conn\u001b[39m.\u001b[39;49mrequest(\n\u001b[1;32m    498\u001b[0m         method,\n\u001b[1;32m    499\u001b[0m         url,\n\u001b[1;32m    500\u001b[0m         body\u001b[39m=\u001b[39;49mbody,\n\u001b[1;32m    501\u001b[0m         headers\u001b[39m=\u001b[39;49mheaders,\n\u001b[1;32m    502\u001b[0m         chunked\u001b[39m=\u001b[39;49mchunked,\n\u001b[1;32m    503\u001b[0m         preload_content\u001b[39m=\u001b[39;49mpreload_content,\n\u001b[1;32m    504\u001b[0m         decode_content\u001b[39m=\u001b[39;49mdecode_content,\n\u001b[1;32m    505\u001b[0m         enforce_content_length\u001b[39m=\u001b[39;49menforce_content_length,\n\u001b[1;32m    506\u001b[0m     )\n\u001b[1;32m    508\u001b[0m \u001b[39m# We are swallowing BrokenPipeError (errno.EPIPE) since the server is\u001b[39;00m\n\u001b[1;32m    509\u001b[0m \u001b[39m# legitimately able to close the connection after sending a valid response.\u001b[39;00m\n\u001b[1;32m    510\u001b[0m \u001b[39m# With this behaviour, the received response is still readable.\u001b[39;00m\n",
      "File \u001b[0;32m~/gits/upx4/inference/env/lib64/python3.11/site-packages/urllib3/connection.py:395\u001b[0m, in \u001b[0;36mHTTPConnection.request\u001b[0;34m(self, method, url, body, headers, chunked, preload_content, decode_content, enforce_content_length)\u001b[0m\n\u001b[1;32m    394\u001b[0m     \u001b[39mself\u001b[39m\u001b[39m.\u001b[39mputheader(header, value)\n\u001b[0;32m--> 395\u001b[0m \u001b[39mself\u001b[39;49m\u001b[39m.\u001b[39;49mendheaders()\n\u001b[1;32m    397\u001b[0m \u001b[39m# If we're given a body we start sending that in chunks.\u001b[39;00m\n",
      "File \u001b[0;32m/usr/lib64/python3.11/http/client.py:1281\u001b[0m, in \u001b[0;36mHTTPConnection.endheaders\u001b[0;34m(self, message_body, encode_chunked)\u001b[0m\n\u001b[1;32m   1280\u001b[0m     \u001b[39mraise\u001b[39;00m CannotSendHeader()\n\u001b[0;32m-> 1281\u001b[0m \u001b[39mself\u001b[39;49m\u001b[39m.\u001b[39;49m_send_output(message_body, encode_chunked\u001b[39m=\u001b[39;49mencode_chunked)\n",
      "File \u001b[0;32m/usr/lib64/python3.11/http/client.py:1041\u001b[0m, in \u001b[0;36mHTTPConnection._send_output\u001b[0;34m(self, message_body, encode_chunked)\u001b[0m\n\u001b[1;32m   1040\u001b[0m \u001b[39mdel\u001b[39;00m \u001b[39mself\u001b[39m\u001b[39m.\u001b[39m_buffer[:]\n\u001b[0;32m-> 1041\u001b[0m \u001b[39mself\u001b[39;49m\u001b[39m.\u001b[39;49msend(msg)\n\u001b[1;32m   1043\u001b[0m \u001b[39mif\u001b[39;00m message_body \u001b[39mis\u001b[39;00m \u001b[39mnot\u001b[39;00m \u001b[39mNone\u001b[39;00m:\n\u001b[1;32m   1044\u001b[0m \n\u001b[1;32m   1045\u001b[0m     \u001b[39m# create a consistent interface to message_body\u001b[39;00m\n",
      "File \u001b[0;32m/usr/lib64/python3.11/http/client.py:979\u001b[0m, in \u001b[0;36mHTTPConnection.send\u001b[0;34m(self, data)\u001b[0m\n\u001b[1;32m    978\u001b[0m \u001b[39mif\u001b[39;00m \u001b[39mself\u001b[39m\u001b[39m.\u001b[39mauto_open:\n\u001b[0;32m--> 979\u001b[0m     \u001b[39mself\u001b[39;49m\u001b[39m.\u001b[39;49mconnect()\n\u001b[1;32m    980\u001b[0m \u001b[39melse\u001b[39;00m:\n",
      "File \u001b[0;32m~/gits/upx4/inference/env/lib64/python3.11/site-packages/urllib3/connection.py:243\u001b[0m, in \u001b[0;36mHTTPConnection.connect\u001b[0;34m(self)\u001b[0m\n\u001b[1;32m    242\u001b[0m \u001b[39mdef\u001b[39;00m \u001b[39mconnect\u001b[39m(\u001b[39mself\u001b[39m) \u001b[39m-\u001b[39m\u001b[39m>\u001b[39m \u001b[39mNone\u001b[39;00m:\n\u001b[0;32m--> 243\u001b[0m     \u001b[39mself\u001b[39m\u001b[39m.\u001b[39msock \u001b[39m=\u001b[39m \u001b[39mself\u001b[39;49m\u001b[39m.\u001b[39;49m_new_conn()\n\u001b[1;32m    244\u001b[0m     \u001b[39mif\u001b[39;00m \u001b[39mself\u001b[39m\u001b[39m.\u001b[39m_tunnel_host:\n\u001b[1;32m    245\u001b[0m         \u001b[39m# If we're tunneling it means we're connected to our proxy.\u001b[39;00m\n",
      "File \u001b[0;32m~/gits/upx4/inference/env/lib64/python3.11/site-packages/urllib3/connection.py:210\u001b[0m, in \u001b[0;36mHTTPConnection._new_conn\u001b[0;34m(self)\u001b[0m\n\u001b[1;32m    209\u001b[0m \u001b[39mexcept\u001b[39;00m socket\u001b[39m.\u001b[39mgaierror \u001b[39mas\u001b[39;00m e:\n\u001b[0;32m--> 210\u001b[0m     \u001b[39mraise\u001b[39;00m NameResolutionError(\u001b[39mself\u001b[39m\u001b[39m.\u001b[39mhost, \u001b[39mself\u001b[39m, e) \u001b[39mfrom\u001b[39;00m \u001b[39me\u001b[39;00m\n\u001b[1;32m    211\u001b[0m \u001b[39mexcept\u001b[39;00m SocketTimeout \u001b[39mas\u001b[39;00m e:\n",
      "\u001b[0;31mNameResolutionError\u001b[0m: <urllib3.connection.HTTPConnection object at 0x7fa39e2c8d50>: Failed to resolve 'api' ([Errno -2] Name or service not known)",
      "\nThe above exception was the direct cause of the following exception:\n",
      "\u001b[0;31mMaxRetryError\u001b[0m                             Traceback (most recent call last)",
      "File \u001b[0;32m~/gits/upx4/inference/env/lib64/python3.11/site-packages/requests/adapters.py:486\u001b[0m, in \u001b[0;36mHTTPAdapter.send\u001b[0;34m(self, request, stream, timeout, verify, cert, proxies)\u001b[0m\n\u001b[1;32m    485\u001b[0m \u001b[39mtry\u001b[39;00m:\n\u001b[0;32m--> 486\u001b[0m     resp \u001b[39m=\u001b[39m conn\u001b[39m.\u001b[39;49murlopen(\n\u001b[1;32m    487\u001b[0m         method\u001b[39m=\u001b[39;49mrequest\u001b[39m.\u001b[39;49mmethod,\n\u001b[1;32m    488\u001b[0m         url\u001b[39m=\u001b[39;49murl,\n\u001b[1;32m    489\u001b[0m         body\u001b[39m=\u001b[39;49mrequest\u001b[39m.\u001b[39;49mbody,\n\u001b[1;32m    490\u001b[0m         headers\u001b[39m=\u001b[39;49mrequest\u001b[39m.\u001b[39;49mheaders,\n\u001b[1;32m    491\u001b[0m         redirect\u001b[39m=\u001b[39;49m\u001b[39mFalse\u001b[39;49;00m,\n\u001b[1;32m    492\u001b[0m         assert_same_host\u001b[39m=\u001b[39;49m\u001b[39mFalse\u001b[39;49;00m,\n\u001b[1;32m    493\u001b[0m         preload_content\u001b[39m=\u001b[39;49m\u001b[39mFalse\u001b[39;49;00m,\n\u001b[1;32m    494\u001b[0m         decode_content\u001b[39m=\u001b[39;49m\u001b[39mFalse\u001b[39;49;00m,\n\u001b[1;32m    495\u001b[0m         retries\u001b[39m=\u001b[39;49m\u001b[39mself\u001b[39;49m\u001b[39m.\u001b[39;49mmax_retries,\n\u001b[1;32m    496\u001b[0m         timeout\u001b[39m=\u001b[39;49mtimeout,\n\u001b[1;32m    497\u001b[0m         chunked\u001b[39m=\u001b[39;49mchunked,\n\u001b[1;32m    498\u001b[0m     )\n\u001b[1;32m    500\u001b[0m \u001b[39mexcept\u001b[39;00m (ProtocolError, \u001b[39mOSError\u001b[39;00m) \u001b[39mas\u001b[39;00m err:\n",
      "File \u001b[0;32m~/gits/upx4/inference/env/lib64/python3.11/site-packages/urllib3/connectionpool.py:845\u001b[0m, in \u001b[0;36mHTTPConnectionPool.urlopen\u001b[0;34m(self, method, url, body, headers, retries, redirect, assert_same_host, timeout, pool_timeout, release_conn, chunked, body_pos, preload_content, decode_content, **response_kw)\u001b[0m\n\u001b[1;32m    843\u001b[0m     new_e \u001b[39m=\u001b[39m ProtocolError(\u001b[39m\"\u001b[39m\u001b[39mConnection aborted.\u001b[39m\u001b[39m\"\u001b[39m, new_e)\n\u001b[0;32m--> 845\u001b[0m retries \u001b[39m=\u001b[39m retries\u001b[39m.\u001b[39;49mincrement(\n\u001b[1;32m    846\u001b[0m     method, url, error\u001b[39m=\u001b[39;49mnew_e, _pool\u001b[39m=\u001b[39;49m\u001b[39mself\u001b[39;49m, _stacktrace\u001b[39m=\u001b[39;49msys\u001b[39m.\u001b[39;49mexc_info()[\u001b[39m2\u001b[39;49m]\n\u001b[1;32m    847\u001b[0m )\n\u001b[1;32m    848\u001b[0m retries\u001b[39m.\u001b[39msleep()\n",
      "File \u001b[0;32m~/gits/upx4/inference/env/lib64/python3.11/site-packages/urllib3/util/retry.py:515\u001b[0m, in \u001b[0;36mRetry.increment\u001b[0;34m(self, method, url, response, error, _pool, _stacktrace)\u001b[0m\n\u001b[1;32m    514\u001b[0m     reason \u001b[39m=\u001b[39m error \u001b[39mor\u001b[39;00m ResponseError(cause)\n\u001b[0;32m--> 515\u001b[0m     \u001b[39mraise\u001b[39;00m MaxRetryError(_pool, url, reason) \u001b[39mfrom\u001b[39;00m \u001b[39mreason\u001b[39;00m  \u001b[39m# type: ignore[arg-type]\u001b[39;00m\n\u001b[1;32m    517\u001b[0m log\u001b[39m.\u001b[39mdebug(\u001b[39m\"\u001b[39m\u001b[39mIncremented Retry for (url=\u001b[39m\u001b[39m'\u001b[39m\u001b[39m%s\u001b[39;00m\u001b[39m'\u001b[39m\u001b[39m): \u001b[39m\u001b[39m%r\u001b[39;00m\u001b[39m\"\u001b[39m, url, new_retry)\n",
      "\u001b[0;31mMaxRetryError\u001b[0m: HTTPConnectionPool(host='api', port=8000): Max retries exceeded with url: /api/records/99999999/ (Caused by NameResolutionError(\"<urllib3.connection.HTTPConnection object at 0x7fa39e2c8d50>: Failed to resolve 'api' ([Errno -2] Name or service not known)\"))",
      "\nDuring handling of the above exception, another exception occurred:\n",
      "\u001b[0;31mConnectionError\u001b[0m                           Traceback (most recent call last)",
      "\u001b[1;32m/home/ren/gits/upx4/inference/vali.ipynb Cell 2\u001b[0m line \u001b[0;36m6\n\u001b[1;32m     <a href='vscode-notebook-cell:/home/ren/gits/upx4/inference/vali.ipynb#W1sZmlsZQ%3D%3D?line=59'>60</a>\u001b[0m \u001b[39mfor\u001b[39;00m vehicle \u001b[39min\u001b[39;00m vehicles:\n\u001b[1;32m     <a href='vscode-notebook-cell:/home/ren/gits/upx4/inference/vali.ipynb#W1sZmlsZQ%3D%3D?line=60'>61</a>\u001b[0m     \u001b[39mfor\u001b[39;00m parking_space \u001b[39min\u001b[39;00m parking_spaces:\n\u001b[0;32m---> <a href='vscode-notebook-cell:/home/ren/gits/upx4/inference/vali.ipynb#W1sZmlsZQ%3D%3D?line=61'>62</a>\u001b[0m         \u001b[39mif\u001b[39;00m \u001b[39mnot\u001b[39;00m parking_space\u001b[39m.\u001b[39;49mintersects_vehicle(vehicle, threshold\u001b[39m=\u001b[39;49m\u001b[39m0.3\u001b[39;49m):\n\u001b[1;32m     <a href='vscode-notebook-cell:/home/ren/gits/upx4/inference/vali.ipynb#W1sZmlsZQ%3D%3D?line=62'>63</a>\u001b[0m             \u001b[39mcontinue\u001b[39;00m\n\u001b[1;32m     <a href='vscode-notebook-cell:/home/ren/gits/upx4/inference/vali.ipynb#W1sZmlsZQ%3D%3D?line=64'>65</a>\u001b[0m         ordered_vehicles[parking_space\u001b[39m.\u001b[39mid] \u001b[39m=\u001b[39m vehicle\n",
      "File \u001b[0;32m~/gits/upx4/inference/script.py:151\u001b[0m, in \u001b[0;36mParkingSpace.intersects_vehicle\u001b[0;34m(self, vehicle, threshold)\u001b[0m\n\u001b[1;32m    148\u001b[0m logging\u001b[39m.\u001b[39mlog(logging\u001b[39m.\u001b[39mDEBUG, \u001b[39mf\u001b[39m\u001b[39m\"\u001b[39m\u001b[39mVehicle area: \u001b[39m\u001b[39m{\u001b[39;00mvehicle\u001b[39m.\u001b[39mpolygon\u001b[39m.\u001b[39marea\u001b[39m}\u001b[39;00m\u001b[39m\\n\u001b[39;00m\u001b[39mSelection area: \u001b[39m\u001b[39m{\u001b[39;00m\u001b[39mself\u001b[39m\u001b[39m.\u001b[39m_selection_polygon\u001b[39m.\u001b[39marea\u001b[39m}\u001b[39;00m\u001b[39m\\n\u001b[39;00m\u001b[39mIntersection ratio: \u001b[39m\u001b[39m{\u001b[39;00mintersection_ratio\u001b[39m}\u001b[39;00m\u001b[39m\"\u001b[39m)\n\u001b[1;32m    150\u001b[0m \u001b[39mif\u001b[39;00m intersection_ratio \u001b[39m>\u001b[39m threshold \u001b[39mand\u001b[39;00m \u001b[39mnot\u001b[39;00m key_exists:\n\u001b[0;32m--> 151\u001b[0m     \u001b[39mself\u001b[39;49m\u001b[39m.\u001b[39;49m_add_vehicle(vehicle)\n\u001b[1;32m    152\u001b[0m     \u001b[39mreturn\u001b[39;00m \u001b[39mTrue\u001b[39;00m\n\u001b[1;32m    153\u001b[0m \u001b[39melif\u001b[39;00m intersection_ratio \u001b[39m>\u001b[39m threshold \u001b[39mand\u001b[39;00m key_exists:\n",
      "File \u001b[0;32m~/gits/upx4/inference/script.py:124\u001b[0m, in \u001b[0;36mParkingSpace._add_vehicle\u001b[0;34m(self, vehicle)\u001b[0m\n\u001b[1;32m    122\u001b[0m \u001b[39mdef\u001b[39;00m \u001b[39m_add_vehicle\u001b[39m(\u001b[39mself\u001b[39m, vehicle: Vehicle):\n\u001b[1;32m    123\u001b[0m     \u001b[39mself\u001b[39m\u001b[39m.\u001b[39m_starting_time \u001b[39m=\u001b[39m time\u001b[39m.\u001b[39mmonotonic()\n\u001b[0;32m--> 124\u001b[0m     \u001b[39mself\u001b[39m\u001b[39m.\u001b[39m_record_id \u001b[39m=\u001b[39m post_report(\u001b[39m\"\u001b[39;49m\u001b[39mcar\u001b[39;49m\u001b[39m\"\u001b[39;49m, parking_space\u001b[39m=\u001b[39;49m\u001b[39mself\u001b[39;49m\u001b[39m.\u001b[39;49m_id, runtime\u001b[39m=\u001b[39;49m\u001b[39mself\u001b[39;49m\u001b[39m.\u001b[39;49m_runtime_id, obj_id\u001b[39m=\u001b[39;49mvehicle\u001b[39m.\u001b[39;49mid)\n\u001b[1;32m    125\u001b[0m     \u001b[39mself\u001b[39m\u001b[39m.\u001b[39m_vehicles[vehicle\u001b[39m.\u001b[39mid] \u001b[39m=\u001b[39m vehicle\n\u001b[1;32m    126\u001b[0m     logging\u001b[39m.\u001b[39mlog(logging\u001b[39m.\u001b[39mINFO, \u001b[39mf\u001b[39m\u001b[39m\"\u001b[39m\u001b[39mVehicle \u001b[39m\u001b[39m{\u001b[39;00mvehicle\u001b[39m.\u001b[39mid\u001b[39m}\u001b[39;00m\u001b[39m entered parking space \u001b[39m\u001b[39m{\u001b[39;00m\u001b[39mself\u001b[39m\u001b[39m.\u001b[39m_id\u001b[39m}\u001b[39;00m\u001b[39m\"\u001b[39m)\n",
      "File \u001b[0;32m~/gits/upx4/inference/script.py:55\u001b[0m, in \u001b[0;36mpost_report\u001b[0;34m(obj_type, parking_space, runtime, obj_id)\u001b[0m\n\u001b[1;32m     53\u001b[0m \u001b[39mdef\u001b[39;00m \u001b[39mpost_report\u001b[39m(obj_type, parking_space, runtime, obj_id):\n\u001b[1;32m     54\u001b[0m     url \u001b[39m=\u001b[39m \u001b[39m\"\u001b[39m\u001b[39mhttp://api:8000/api/records/99999999/\u001b[39m\u001b[39m\"\u001b[39m\n\u001b[0;32m---> 55\u001b[0m     r \u001b[39m=\u001b[39m requests\u001b[39m.\u001b[39;49mpost(url, json\u001b[39m=\u001b[39;49m{\n\u001b[1;32m     56\u001b[0m                             \u001b[39m\"\u001b[39;49m\u001b[39mobj_id\u001b[39;49m\u001b[39m\"\u001b[39;49m: obj_id,\n\u001b[1;32m     57\u001b[0m                              \u001b[39m\"\u001b[39;49m\u001b[39mobj_type\u001b[39;49m\u001b[39m\"\u001b[39;49m: \u001b[39m1\u001b[39;49m, \n\u001b[1;32m     58\u001b[0m                              \u001b[39m\"\u001b[39;49m\u001b[39mparking_space\u001b[39;49m\u001b[39m\"\u001b[39;49m: parking_space, \n\u001b[1;32m     59\u001b[0m                              \u001b[39m\"\u001b[39;49m\u001b[39mruntime\u001b[39;49m\u001b[39m\"\u001b[39;49m: runtime}\n\u001b[1;32m     60\u001b[0m                              )\n\u001b[1;32m     61\u001b[0m     logging\u001b[39m.\u001b[39merror(r\u001b[39m.\u001b[39mjson()\u001b[39m.\u001b[39mget(\u001b[39m\"\u001b[39m\u001b[39mdetails\u001b[39m\u001b[39m\"\u001b[39m))\n\u001b[1;32m     62\u001b[0m     logging\u001b[39m.\u001b[39merror(\u001b[39mf\u001b[39m\u001b[39m\"\u001b[39m\u001b[39mPosted report with status code \u001b[39m\u001b[39m{\u001b[39;00mr\u001b[39m.\u001b[39mstatus_code\u001b[39m}\u001b[39;00m\u001b[39m\"\u001b[39m)\n",
      "File \u001b[0;32m~/gits/upx4/inference/env/lib64/python3.11/site-packages/requests/api.py:115\u001b[0m, in \u001b[0;36mpost\u001b[0;34m(url, data, json, **kwargs)\u001b[0m\n\u001b[1;32m    103\u001b[0m \u001b[39mdef\u001b[39;00m \u001b[39mpost\u001b[39m(url, data\u001b[39m=\u001b[39m\u001b[39mNone\u001b[39;00m, json\u001b[39m=\u001b[39m\u001b[39mNone\u001b[39;00m, \u001b[39m*\u001b[39m\u001b[39m*\u001b[39mkwargs):\n\u001b[1;32m    104\u001b[0m \u001b[39m    \u001b[39m\u001b[39mr\u001b[39m\u001b[39m\"\"\"Sends a POST request.\u001b[39;00m\n\u001b[1;32m    105\u001b[0m \n\u001b[1;32m    106\u001b[0m \u001b[39m    :param url: URL for the new :class:`Request` object.\u001b[39;00m\n\u001b[0;32m   (...)\u001b[0m\n\u001b[1;32m    112\u001b[0m \u001b[39m    :rtype: requests.Response\u001b[39;00m\n\u001b[1;32m    113\u001b[0m \u001b[39m    \"\"\"\u001b[39;00m\n\u001b[0;32m--> 115\u001b[0m     \u001b[39mreturn\u001b[39;00m request(\u001b[39m\"\u001b[39;49m\u001b[39mpost\u001b[39;49m\u001b[39m\"\u001b[39;49m, url, data\u001b[39m=\u001b[39;49mdata, json\u001b[39m=\u001b[39;49mjson, \u001b[39m*\u001b[39;49m\u001b[39m*\u001b[39;49mkwargs)\n",
      "File \u001b[0;32m~/gits/upx4/inference/env/lib64/python3.11/site-packages/requests/api.py:59\u001b[0m, in \u001b[0;36mrequest\u001b[0;34m(method, url, **kwargs)\u001b[0m\n\u001b[1;32m     55\u001b[0m \u001b[39m# By using the 'with' statement we are sure the session is closed, thus we\u001b[39;00m\n\u001b[1;32m     56\u001b[0m \u001b[39m# avoid leaving sockets open which can trigger a ResourceWarning in some\u001b[39;00m\n\u001b[1;32m     57\u001b[0m \u001b[39m# cases, and look like a memory leak in others.\u001b[39;00m\n\u001b[1;32m     58\u001b[0m \u001b[39mwith\u001b[39;00m sessions\u001b[39m.\u001b[39mSession() \u001b[39mas\u001b[39;00m session:\n\u001b[0;32m---> 59\u001b[0m     \u001b[39mreturn\u001b[39;00m session\u001b[39m.\u001b[39;49mrequest(method\u001b[39m=\u001b[39;49mmethod, url\u001b[39m=\u001b[39;49murl, \u001b[39m*\u001b[39;49m\u001b[39m*\u001b[39;49mkwargs)\n",
      "File \u001b[0;32m~/gits/upx4/inference/env/lib64/python3.11/site-packages/requests/sessions.py:589\u001b[0m, in \u001b[0;36mSession.request\u001b[0;34m(self, method, url, params, data, headers, cookies, files, auth, timeout, allow_redirects, proxies, hooks, stream, verify, cert, json)\u001b[0m\n\u001b[1;32m    584\u001b[0m send_kwargs \u001b[39m=\u001b[39m {\n\u001b[1;32m    585\u001b[0m     \u001b[39m\"\u001b[39m\u001b[39mtimeout\u001b[39m\u001b[39m\"\u001b[39m: timeout,\n\u001b[1;32m    586\u001b[0m     \u001b[39m\"\u001b[39m\u001b[39mallow_redirects\u001b[39m\u001b[39m\"\u001b[39m: allow_redirects,\n\u001b[1;32m    587\u001b[0m }\n\u001b[1;32m    588\u001b[0m send_kwargs\u001b[39m.\u001b[39mupdate(settings)\n\u001b[0;32m--> 589\u001b[0m resp \u001b[39m=\u001b[39m \u001b[39mself\u001b[39;49m\u001b[39m.\u001b[39;49msend(prep, \u001b[39m*\u001b[39;49m\u001b[39m*\u001b[39;49msend_kwargs)\n\u001b[1;32m    591\u001b[0m \u001b[39mreturn\u001b[39;00m resp\n",
      "File \u001b[0;32m~/gits/upx4/inference/env/lib64/python3.11/site-packages/requests/sessions.py:703\u001b[0m, in \u001b[0;36mSession.send\u001b[0;34m(self, request, **kwargs)\u001b[0m\n\u001b[1;32m    700\u001b[0m start \u001b[39m=\u001b[39m preferred_clock()\n\u001b[1;32m    702\u001b[0m \u001b[39m# Send the request\u001b[39;00m\n\u001b[0;32m--> 703\u001b[0m r \u001b[39m=\u001b[39m adapter\u001b[39m.\u001b[39;49msend(request, \u001b[39m*\u001b[39;49m\u001b[39m*\u001b[39;49mkwargs)\n\u001b[1;32m    705\u001b[0m \u001b[39m# Total elapsed time of the request (approximately)\u001b[39;00m\n\u001b[1;32m    706\u001b[0m elapsed \u001b[39m=\u001b[39m preferred_clock() \u001b[39m-\u001b[39m start\n",
      "File \u001b[0;32m~/gits/upx4/inference/env/lib64/python3.11/site-packages/requests/adapters.py:519\u001b[0m, in \u001b[0;36mHTTPAdapter.send\u001b[0;34m(self, request, stream, timeout, verify, cert, proxies)\u001b[0m\n\u001b[1;32m    515\u001b[0m     \u001b[39mif\u001b[39;00m \u001b[39misinstance\u001b[39m(e\u001b[39m.\u001b[39mreason, _SSLError):\n\u001b[1;32m    516\u001b[0m         \u001b[39m# This branch is for urllib3 v1.22 and later.\u001b[39;00m\n\u001b[1;32m    517\u001b[0m         \u001b[39mraise\u001b[39;00m SSLError(e, request\u001b[39m=\u001b[39mrequest)\n\u001b[0;32m--> 519\u001b[0m     \u001b[39mraise\u001b[39;00m \u001b[39mConnectionError\u001b[39;00m(e, request\u001b[39m=\u001b[39mrequest)\n\u001b[1;32m    521\u001b[0m \u001b[39mexcept\u001b[39;00m ClosedPoolError \u001b[39mas\u001b[39;00m e:\n\u001b[1;32m    522\u001b[0m     \u001b[39mraise\u001b[39;00m \u001b[39mConnectionError\u001b[39;00m(e, request\u001b[39m=\u001b[39mrequest)\n",
      "\u001b[0;31mConnectionError\u001b[0m: HTTPConnectionPool(host='api', port=8000): Max retries exceeded with url: /api/records/99999999/ (Caused by NameResolutionError(\"<urllib3.connection.HTTPConnection object at 0x7fa39e2c8d50>: Failed to resolve 'api' ([Errno -2] Name or service not known)\"))"
     ]
    }
   ],
   "source": [
    "# bibliotecas\n",
    "from dataclasses import dataclass\n",
    "from pycocotools.coco import COCO\n",
    "from ultralytics import YOLO\n",
    "from pathlib import Path\n",
    "from shapely.geometry import Polygon\n",
    "import pandas as pd\n",
    "\n",
    "def coco_to_xsys(segmentation):\n",
    "    return [(segmentation[i], segmentation[i + 1]) for i in range(0, len(segmentation), 2)]\n",
    "\n",
    "# import do script usado para detecção de veículos\n",
    "from script import ParkingSpace, Vehicle\n",
    "\n",
    "# modelo de detecção\n",
    "model = YOLO(\"yolov8x-seg.pt\")\n",
    "\n",
    "# categoria e id dos espaços de estacionamento\n",
    "parking_names = list(\"abcdef\")\n",
    "test_selection = [\n",
    "    [(381, 193), (377, 319), (502, 339), (486, 179), (396, 174)],\n",
    "    [(309, 142), (277, 245), (386, 300), (395, 152)],\n",
    "    [(248, 91), (203, 193), (282, 232), (329, 114)],\n",
    "    [(193, 54), (138, 155), (202, 185), (258, 75)],\n",
    "    [(149, 30), (78, 124), (136, 142), (205, 45)],\n",
    "    [(113, 4), (48, 70), (87, 97), (166, 21)],\n",
    "]\n",
    "\n",
    "# lista de objetos ParkingSpace\n",
    "parking_spaces = []\n",
    "\n",
    "# criação dos objetos ParkingSpace\n",
    "for space_id, space_name in enumerate(parking_names):\n",
    "    parking_spaces.append(ParkingSpace(space_id, test_selection[space_id]))\n",
    "\n",
    "path = Path(\"/home/ren/Downloads/carscoco/valid\")\n",
    "annotations_coco = COCO(path / \"_annotations.coco.json\")\n",
    "ann_data = annotations_coco.imgToAnns\n",
    "\n",
    "i = 0\n",
    "correct = 0\n",
    "wrong = 0\n",
    "\n",
    "data = []\n",
    "for image in annotations_coco.imgs.values():\n",
    "    # valores reais\n",
    "    file_name = path / image[\"file_name\"]\n",
    "    id = image[\"id\"]\n",
    "    anns = ann_data[id]\n",
    "    cats_actual = [ann[\"category_id\"]-1 for ann in anns if ann['category_id']-1 != 6]\n",
    "    true_segs = {ann['category_id']-1: ann['segmentation'][0] for ann in anns if ann['category_id']-1 !=6}\n",
    "\n",
    "    # valores preditos pelo modelo\n",
    "    results = model(file_name, classes=[1, 2, 7])\n",
    "    car_seg_preds = results[0].masks.xy\n",
    "    vehicles = [\n",
    "        Vehicle(None, None, None, polygon=Polygon(mask)) for mask in car_seg_preds\n",
    "    ]\n",
    "    ordered_vehicles = [None]*6\n",
    "    for vehicle in vehicles:\n",
    "        for parking_space in parking_spaces:\n",
    "            if not parking_space.intersects_vehicle(vehicle, threshold=0.3):\n",
    "                continue\n",
    "\n",
    "            ordered_vehicles[parking_space.id] = vehicle\n",
    "            if vehicle.cls_id is not None:\n",
    "                vehicle.cls_id = max(parking_space.id, vehicle.cls_id)\n",
    "                continue\n",
    "\n",
    "            vehicle.cls_id = parking_space.id\n",
    "    cats_predicted = [vehicle.cls_id for vehicle in ordered_vehicles if vehicle is not None]\n",
    "\n",
    "    for cat in range(len(parking_names)):\n",
    "        iou = None\n",
    "        if(cat not in cats_actual and cat not in cats_predicted):\n",
    "            continue\n",
    "        if cat in cats_actual and cat in cats_predicted:\n",
    "            true_seg = coco_to_xsys(true_segs[cat])\n",
    "            pol_actual = Polygon(true_seg)\n",
    "            pol_predicted = ordered_vehicles[cat].polygon\n",
    "            iou = pol_predicted.intersection(pol_actual).area/pol_predicted.union(pol_actual).area\n",
    "            wrong = wrong + 1 if iou < .3 else wrong\n",
    "            correct = correct + 1 if iou > .3 else correct\n",
    "        else:\n",
    "            wrong+=1\n",
    "\n",
    "        data.append({\n",
    "                        'ImageFileName': file_name,\n",
    "                        'ImageID': id,\n",
    "                        'catID': cat,\n",
    "                        'catName': parking_names[cat],\n",
    "                        'predicted': cat in cats_predicted,\n",
    "                        'actual': cat in cats_actual,\n",
    "                        'IOU': iou\n",
    "                    })\n",
    "    i+=1\n",
    "    print(f\"step {i} wrong {wrong} | total {correct+wrong} | acc {correct/(correct+wrong)}\")\n",
    "df = pd.DataFrame(data)"
   ]
  },
  {
   "cell_type": "code",
   "execution_count": null,
   "metadata": {},
   "outputs": [],
   "source": [
    "grouped = df.groupby('catID')\n",
    "\n",
    "accuracy_per_cat = grouped.apply(lambda group: (group['predicted'] == group['actual']).mean())"
   ]
  },
  {
   "cell_type": "code",
   "execution_count": null,
   "metadata": {},
   "outputs": [],
   "source": [
    "grouped = df.groupby('catName')\n",
    "\n",
    "def calculate_metrics(group):\n",
    "    total_instances = len(group)\n",
    "    correct_guesses = (group['predicted'] == group['actual']).sum()\n",
    "    wrong_guesses = total_instances - correct_guesses\n",
    "    accuracy = correct_guesses / total_instances if total_instances > 0 else 0.0\n",
    "    return pd.Series({\n",
    "        'Total': total_instances,\n",
    "        'Correto': correct_guesses,\n",
    "        'Errado': wrong_guesses,\n",
    "        'Acurácia': accuracy,\n",
    "        'Número de instâncias': total_instances,\n",
    "    })\n",
    "\n",
    "metrics_per_cat = grouped.apply(calculate_metrics)"
   ]
  },
  {
   "cell_type": "code",
   "execution_count": null,
   "metadata": {},
   "outputs": [],
   "source": [
    "metrics_per_cat.rename_axis(\"Vaga\")"
   ]
  },
  {
   "cell_type": "code",
   "execution_count": null,
   "metadata": {},
   "outputs": [],
   "source": [
    "metrics_per_cat.Correto.sum()/metrics_per_cat.Total.sum()"
   ]
  },
  {
   "cell_type": "code",
   "execution_count": null,
   "metadata": {},
   "outputs": [],
   "source": [
    "import matplotlib.pyplot as plt\n",
    "\n",
    "fig, ax = plt.subplots(figsize=(8, 6)) \n",
    "ax.axis('tight')\n",
    "ax.axis('off')\n",
    "ax.table(cellText=metrics_per_cat.values, colLabels=metrics_per_cat.columns, cellLoc = 'center', loc='center')\n",
    "plt.savefig('metrics_table.png', bbox_inches='tight', pad_inches=0.1)\n",
    "plt.show()"
   ]
  }
 ],
 "metadata": {
  "kernelspec": {
   "display_name": "env",
   "language": "python",
   "name": "python3"
  },
  "language_info": {
   "codemirror_mode": {
    "name": "ipython",
    "version": 3
   },
   "file_extension": ".py",
   "mimetype": "text/x-python",
   "name": "python",
   "nbconvert_exporter": "python",
   "pygments_lexer": "ipython3",
   "version": "3.11.6"
  }
 },
 "nbformat": 4,
 "nbformat_minor": 2
}
